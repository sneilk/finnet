{
 "cells": [
  {
   "cell_type": "code",
   "execution_count": 1,
   "metadata": {},
   "outputs": [],
   "source": [
    "import numpy as np\n",
    "import pandas as pd\n",
    "import scipy\n",
    "import tqdm\n",
    "\n",
    "import catboost as cat\n",
    "from catboost import CatBoostClassifier\n",
    "from sklearn.preprocessing import OneHotEncoder\n",
    "from scipy.sparse import hstack\n"
   ]
  },
  {
   "cell_type": "markdown",
   "metadata": {},
   "source": [
    "## Загрузим данные"
   ]
  },
  {
   "cell_type": "code",
   "execution_count": 2,
   "metadata": {},
   "outputs": [
    {
     "name": "stdout",
     "output_type": "stream",
     "text": [
      "CPU times: user 3.24 s, sys: 994 ms, total: 4.23 s\n",
      "Wall time: 11.6 s\n"
     ]
    }
   ],
   "source": [
    "%%time\n",
    "edges = pd.read_csv('./edges.csv')\n",
    "ids = pd.read_csv('./ids.csv')\n",
    "vertices = pd.read_csv('./vertices.csv')"
   ]
  },
  {
   "cell_type": "code",
   "execution_count": 3,
   "metadata": {},
   "outputs": [],
   "source": [
    "vertices['main_okved'] = vertices['main_okved'].astype(str)"
   ]
  },
  {
   "cell_type": "code",
   "execution_count": 4,
   "metadata": {},
   "outputs": [],
   "source": [
    "vertices[\"first_okved\"] = vertices.main_okved.map(lambda x: x.split(\".\")[0])\n",
    "vertices[\"second_okved\"] = vertices.main_okved.map(lambda x: x.split(\".\")[1])"
   ]
  },
  {
   "cell_type": "code",
   "execution_count": 6,
   "metadata": {},
   "outputs": [
    {
     "data": {
      "text/plain": [
       "1534749"
      ]
     },
     "execution_count": 6,
     "metadata": {},
     "output_type": "execute_result"
    }
   ],
   "source": [
    "vertices.shape[0]"
   ]
  },
  {
   "cell_type": "code",
   "execution_count": 5,
   "metadata": {},
   "outputs": [
    {
     "data": {
      "text/html": [
       "<div>\n",
       "<style scoped>\n",
       "    .dataframe tbody tr th:only-of-type {\n",
       "        vertical-align: middle;\n",
       "    }\n",
       "\n",
       "    .dataframe tbody tr th {\n",
       "        vertical-align: top;\n",
       "    }\n",
       "\n",
       "    .dataframe thead th {\n",
       "        text-align: right;\n",
       "    }\n",
       "</style>\n",
       "<table border=\"1\" class=\"dataframe\">\n",
       "  <thead>\n",
       "    <tr style=\"text-align: right;\">\n",
       "      <th></th>\n",
       "      <th>id</th>\n",
       "      <th>main_okved</th>\n",
       "      <th>region_code</th>\n",
       "      <th>company_type</th>\n",
       "      <th>first_okved</th>\n",
       "      <th>second_okved</th>\n",
       "    </tr>\n",
       "  </thead>\n",
       "  <tbody>\n",
       "    <tr>\n",
       "      <th>0</th>\n",
       "      <td>1</td>\n",
       "      <td>46.75</td>\n",
       "      <td>77</td>\n",
       "      <td>Limited</td>\n",
       "      <td>46</td>\n",
       "      <td>75</td>\n",
       "    </tr>\n",
       "    <tr>\n",
       "      <th>1</th>\n",
       "      <td>2</td>\n",
       "      <td>41.2</td>\n",
       "      <td>78</td>\n",
       "      <td>Limited</td>\n",
       "      <td>41</td>\n",
       "      <td>2</td>\n",
       "    </tr>\n",
       "    <tr>\n",
       "      <th>2</th>\n",
       "      <td>3</td>\n",
       "      <td>25.11</td>\n",
       "      <td>50</td>\n",
       "      <td>Limited</td>\n",
       "      <td>25</td>\n",
       "      <td>11</td>\n",
       "    </tr>\n",
       "    <tr>\n",
       "      <th>3</th>\n",
       "      <td>4</td>\n",
       "      <td>45.31</td>\n",
       "      <td>89</td>\n",
       "      <td>Limited</td>\n",
       "      <td>45</td>\n",
       "      <td>31</td>\n",
       "    </tr>\n",
       "    <tr>\n",
       "      <th>4</th>\n",
       "      <td>5</td>\n",
       "      <td>56.1</td>\n",
       "      <td>50</td>\n",
       "      <td>Limited</td>\n",
       "      <td>56</td>\n",
       "      <td>1</td>\n",
       "    </tr>\n",
       "    <tr>\n",
       "      <th>...</th>\n",
       "      <td>...</td>\n",
       "      <td>...</td>\n",
       "      <td>...</td>\n",
       "      <td>...</td>\n",
       "      <td>...</td>\n",
       "      <td>...</td>\n",
       "    </tr>\n",
       "    <tr>\n",
       "      <th>1534744</th>\n",
       "      <td>1534745</td>\n",
       "      <td>63.99</td>\n",
       "      <td>77</td>\n",
       "      <td>Individual</td>\n",
       "      <td>63</td>\n",
       "      <td>99</td>\n",
       "    </tr>\n",
       "    <tr>\n",
       "      <th>1534745</th>\n",
       "      <td>1534746</td>\n",
       "      <td>47.19</td>\n",
       "      <td>66</td>\n",
       "      <td>Individual</td>\n",
       "      <td>47</td>\n",
       "      <td>19</td>\n",
       "    </tr>\n",
       "    <tr>\n",
       "      <th>1534746</th>\n",
       "      <td>1534747</td>\n",
       "      <td>41.2</td>\n",
       "      <td>77</td>\n",
       "      <td>Individual</td>\n",
       "      <td>41</td>\n",
       "      <td>2</td>\n",
       "    </tr>\n",
       "    <tr>\n",
       "      <th>1534747</th>\n",
       "      <td>1534748</td>\n",
       "      <td>74.2</td>\n",
       "      <td>33</td>\n",
       "      <td>Individual</td>\n",
       "      <td>74</td>\n",
       "      <td>2</td>\n",
       "    </tr>\n",
       "    <tr>\n",
       "      <th>1534748</th>\n",
       "      <td>1534749</td>\n",
       "      <td>68.2</td>\n",
       "      <td>66</td>\n",
       "      <td>Individual</td>\n",
       "      <td>68</td>\n",
       "      <td>2</td>\n",
       "    </tr>\n",
       "  </tbody>\n",
       "</table>\n",
       "<p>1534749 rows × 6 columns</p>\n",
       "</div>"
      ],
      "text/plain": [
       "              id main_okved  region_code company_type first_okved second_okved\n",
       "0              1      46.75           77      Limited          46           75\n",
       "1              2       41.2           78      Limited          41            2\n",
       "2              3      25.11           50      Limited          25           11\n",
       "3              4      45.31           89      Limited          45           31\n",
       "4              5       56.1           50      Limited          56            1\n",
       "...          ...        ...          ...          ...         ...          ...\n",
       "1534744  1534745      63.99           77   Individual          63           99\n",
       "1534745  1534746      47.19           66   Individual          47           19\n",
       "1534746  1534747       41.2           77   Individual          41            2\n",
       "1534747  1534748       74.2           33   Individual          74            2\n",
       "1534748  1534749       68.2           66   Individual          68            2\n",
       "\n",
       "[1534749 rows x 6 columns]"
      ]
     },
     "execution_count": 5,
     "metadata": {},
     "output_type": "execute_result"
    }
   ],
   "source": [
    "vertices"
   ]
  },
  {
   "cell_type": "code",
   "execution_count": 16,
   "metadata": {},
   "outputs": [],
   "source": [
    "df = vertices[['region_code', 'first_okved', 'second_okved', 'company_type']]\n",
    "enc = OneHotEncoder(handle_unknown='ignore')\n",
    "df_oh_encoded = enc.fit_transform(df)\n",
    "\n",
    "df = vertices.drop(['region_code', 'first_okved', 'second_okved', 'company_type', 'main_okved'], axis=1)\n",
    "vertices_sparse = scipy.sparse.csr_matrix(df.values)\n",
    "X = hsparse([vertices_sparse, df_oh_encoded])"
   ]
  },
  {
   "cell_type": "code",
   "execution_count": 6,
   "metadata": {},
   "outputs": [],
   "source": [
    "np.random.seed(7777)"
   ]
  },
  {
   "cell_type": "markdown",
   "metadata": {},
   "source": [
    "## Обучим модель"
   ]
  },
  {
   "cell_type": "code",
   "execution_count": 6,
   "metadata": {},
   "outputs": [],
   "source": [
    "result = pd.DataFrame(columns=['id_1', 'id_2'])"
   ]
  },
  {
   "cell_type": "code",
   "execution_count": 8,
   "metadata": {},
   "outputs": [
    {
     "name": "stderr",
     "output_type": "stream",
     "text": [
      "100%|██████████| 100/100 [1:06:26<00:00, 39.87s/it]\n"
     ]
    }
   ],
   "source": [
    "# для каждой вершины из ids с помощью catboost найдем 1000 самых вероятных ребер\n",
    "for i in tqdm.tqdm(ids.id):\n",
    "    # соберем датасет из всех возможных вершин\n",
    "    # вершины имеющие в исходных данных ребро с i обозначим 1, остальные 0\n",
    "    # учтем то, что вершина i может быть как среди id_1, так и среди id_2\n",
    "    df1 = edges[edges['id_1'] == i].reset_index()\n",
    "    df2 = edges[edges['id_2'] == i].reset_index()\n",
    "\n",
    "    df = df1[['id_2', 'id_1']].rename(columns={'id_1':'id_2', 'id_2':'id_1'}).append(df2[['id_1', 'id_2']])\n",
    "    df['target'] = 1\n",
    "    \n",
    "    df = vertices.set_index('id').join(df.set_index('id_1')['target']).fillna(0)\n",
    "    \n",
    "    \n",
    "    X = df[['region_code', 'first_okved', 'second_okved', 'company_type']]\n",
    "    y = df['target']\n",
    "    \n",
    "    enc = OneHotEncoder(handle_unknown='ignore')\n",
    "    X = enc.fit_transform(X)    \n",
    "\n",
    "    model = CatBoostClassifier(iterations=100, verbose=False)\n",
    "    cat_features = [0,1,2] # все признаки категориальные\n",
    "    \n",
    "    model.fit(X, y)\n",
    "\n",
    "    preds = model.predict_proba(X)[:,1]\n",
    "\n",
    "    df['preds'] = preds\n",
    "    df['id_2'] = i\n",
    "    \n",
    "    # возьмем первую 1000 предсказанных ребер, исключив те, про которые мы уже знали\n",
    "    res = df[df['target'] != 1].sort_values(by='preds', ascending=False).iloc[:1000].reset_index()[['id', 'id_2']]\n",
    "    res.columns = ['id_1', 'id_2']\n",
    "    \n",
    "    result = result.append(res, ignore_index=True, sort=False)"
   ]
  },
  {
   "cell_type": "markdown",
   "metadata": {},
   "source": [
    "## Результат готов к отправке"
   ]
  },
  {
   "cell_type": "code",
   "execution_count": 9,
   "metadata": {},
   "outputs": [],
   "source": [
    "result.to_csv('submission.csv', index = False)"
   ]
  },
  {
   "cell_type": "code",
   "execution_count": 10,
   "metadata": {},
   "outputs": [
    {
     "data": {
      "text/html": [
       "<div>\n",
       "<style scoped>\n",
       "    .dataframe tbody tr th:only-of-type {\n",
       "        vertical-align: middle;\n",
       "    }\n",
       "\n",
       "    .dataframe tbody tr th {\n",
       "        vertical-align: top;\n",
       "    }\n",
       "\n",
       "    .dataframe thead th {\n",
       "        text-align: right;\n",
       "    }\n",
       "</style>\n",
       "<table border=\"1\" class=\"dataframe\">\n",
       "  <thead>\n",
       "    <tr style=\"text-align: right;\">\n",
       "      <th></th>\n",
       "      <th>id</th>\n",
       "      <th>main_okved</th>\n",
       "      <th>region_code</th>\n",
       "      <th>company_type</th>\n",
       "      <th>first_okved</th>\n",
       "      <th>second_okved</th>\n",
       "    </tr>\n",
       "  </thead>\n",
       "  <tbody>\n",
       "    <tr>\n",
       "      <th>0</th>\n",
       "      <td>1</td>\n",
       "      <td>46.75</td>\n",
       "      <td>77</td>\n",
       "      <td>Limited</td>\n",
       "      <td>46</td>\n",
       "      <td>75</td>\n",
       "    </tr>\n",
       "    <tr>\n",
       "      <th>1</th>\n",
       "      <td>2</td>\n",
       "      <td>41.2</td>\n",
       "      <td>78</td>\n",
       "      <td>Limited</td>\n",
       "      <td>41</td>\n",
       "      <td>2</td>\n",
       "    </tr>\n",
       "    <tr>\n",
       "      <th>2</th>\n",
       "      <td>3</td>\n",
       "      <td>25.11</td>\n",
       "      <td>50</td>\n",
       "      <td>Limited</td>\n",
       "      <td>25</td>\n",
       "      <td>11</td>\n",
       "    </tr>\n",
       "    <tr>\n",
       "      <th>3</th>\n",
       "      <td>4</td>\n",
       "      <td>45.31</td>\n",
       "      <td>89</td>\n",
       "      <td>Limited</td>\n",
       "      <td>45</td>\n",
       "      <td>31</td>\n",
       "    </tr>\n",
       "    <tr>\n",
       "      <th>4</th>\n",
       "      <td>5</td>\n",
       "      <td>56.1</td>\n",
       "      <td>50</td>\n",
       "      <td>Limited</td>\n",
       "      <td>56</td>\n",
       "      <td>1</td>\n",
       "    </tr>\n",
       "    <tr>\n",
       "      <th>...</th>\n",
       "      <td>...</td>\n",
       "      <td>...</td>\n",
       "      <td>...</td>\n",
       "      <td>...</td>\n",
       "      <td>...</td>\n",
       "      <td>...</td>\n",
       "    </tr>\n",
       "    <tr>\n",
       "      <th>1534744</th>\n",
       "      <td>1534745</td>\n",
       "      <td>63.99</td>\n",
       "      <td>77</td>\n",
       "      <td>Individual</td>\n",
       "      <td>63</td>\n",
       "      <td>99</td>\n",
       "    </tr>\n",
       "    <tr>\n",
       "      <th>1534745</th>\n",
       "      <td>1534746</td>\n",
       "      <td>47.19</td>\n",
       "      <td>66</td>\n",
       "      <td>Individual</td>\n",
       "      <td>47</td>\n",
       "      <td>19</td>\n",
       "    </tr>\n",
       "    <tr>\n",
       "      <th>1534746</th>\n",
       "      <td>1534747</td>\n",
       "      <td>41.2</td>\n",
       "      <td>77</td>\n",
       "      <td>Individual</td>\n",
       "      <td>41</td>\n",
       "      <td>2</td>\n",
       "    </tr>\n",
       "    <tr>\n",
       "      <th>1534747</th>\n",
       "      <td>1534748</td>\n",
       "      <td>74.2</td>\n",
       "      <td>33</td>\n",
       "      <td>Individual</td>\n",
       "      <td>74</td>\n",
       "      <td>2</td>\n",
       "    </tr>\n",
       "    <tr>\n",
       "      <th>1534748</th>\n",
       "      <td>1534749</td>\n",
       "      <td>68.2</td>\n",
       "      <td>66</td>\n",
       "      <td>Individual</td>\n",
       "      <td>68</td>\n",
       "      <td>2</td>\n",
       "    </tr>\n",
       "  </tbody>\n",
       "</table>\n",
       "<p>1534749 rows × 6 columns</p>\n",
       "</div>"
      ],
      "text/plain": [
       "              id main_okved  region_code company_type first_okved second_okved\n",
       "0              1      46.75           77      Limited          46           75\n",
       "1              2       41.2           78      Limited          41            2\n",
       "2              3      25.11           50      Limited          25           11\n",
       "3              4      45.31           89      Limited          45           31\n",
       "4              5       56.1           50      Limited          56            1\n",
       "...          ...        ...          ...          ...         ...          ...\n",
       "1534744  1534745      63.99           77   Individual          63           99\n",
       "1534745  1534746      47.19           66   Individual          47           19\n",
       "1534746  1534747       41.2           77   Individual          41            2\n",
       "1534747  1534748       74.2           33   Individual          74            2\n",
       "1534748  1534749       68.2           66   Individual          68            2\n",
       "\n",
       "[1534749 rows x 6 columns]"
      ]
     },
     "execution_count": 10,
     "metadata": {},
     "output_type": "execute_result"
    }
   ],
   "source": [
    "vertices"
   ]
  },
  {
   "cell_type": "code",
   "execution_count": null,
   "metadata": {},
   "outputs": [],
   "source": []
  }
 ],
 "metadata": {
  "kernelspec": {
   "display_name": "Python 3",
   "language": "python",
   "name": "python3"
  },
  "language_info": {
   "codemirror_mode": {
    "name": "ipython",
    "version": 3
   },
   "file_extension": ".py",
   "mimetype": "text/x-python",
   "name": "python",
   "nbconvert_exporter": "python",
   "pygments_lexer": "ipython3",
   "version": "3.7.5"
  }
 },
 "nbformat": 4,
 "nbformat_minor": 2
}
